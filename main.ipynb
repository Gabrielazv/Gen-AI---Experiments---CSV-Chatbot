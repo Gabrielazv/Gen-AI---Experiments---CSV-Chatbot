{
 "cells": [
  {
   "cell_type": "code",
   "execution_count": null,
   "id": "ec049dab",
   "metadata": {
    "execution": {
     "iopub.execute_input": "2024-03-25T13:28:07.389926Z",
     "iopub.status.busy": "2024-03-25T13:28:07.389618Z",
     "iopub.status.idle": "2024-03-25T13:28:54.699267Z",
     "shell.execute_reply": "2024-03-25T13:28:54.698191Z",
     "shell.execute_reply.started": "2024-03-25T13:28:07.389901Z"
    }
   },
   "outputs": [],
   "source": [
    "# Requirments\n",
    "!pip install langchain\n",
    "!pip install transformers\n",
    "!pip install streamlit\n",
    "!pip install faiss-gpu\n",
    "!pip install HuggingFace\n",
    "!pip install faiss-cpu\n",
    "!pip install sentence-transformers\n",
    "!pip install ctransformers\n",
    "\n",
    "import os\n",
    "from langchain.document_loaders.csv_loader import CSVLoader\n",
    "from langchain.text_splitter import RecursiveCharacterTextSplitter\n",
    "from langchain.embeddings import HuggingFaceEmbeddings\n",
    "from langchain.vectorstores import FAISS\n",
    "from langchain.llms import CTransformers\n",
    "from langchain.chains import ConversationalRetrievalChain\n",
    "#"
   ]
  },
  {
   "cell_type": "code",
   "execution_count": null,
   "id": "358f6829",
   "metadata": {
    "execution": {
     "iopub.execute_input": "2024-03-25T13:32:18.329323Z",
     "iopub.status.busy": "2024-03-25T13:32:18.328955Z",
     "iopub.status.idle": "2024-03-25T13:38:53.454383Z",
     "shell.execute_reply": "2024-03-25T13:38:53.453556Z",
     "shell.execute_reply.started": "2024-03-25T13:32:18.329292Z"
    }
   },
   "outputs": [],
   "source": [
    "def main():\n",
    "    DB_FAISS_PATH = \"vectorstore/db_faiss\"\n",
    "    TEMP_DIR = \"temp\"\n",
    "\n",
    "    if not os.path.exists(TEMP_DIR):\n",
    "        os.makedirs(TEMP_DIR)\n",
    "\n",
    "    csv_file_path = \"bmw.csv\"  # Update with CSV path required\n",
    "\n",
    "    loader = CSVLoader(file_path=csv_file_path, encoding=\"utf-8\", csv_args={'delimiter': ','}) # Just need to change delimiter if needed\n",
    "    data = loader.load()\n",
    "\n",
    "    text_splitter = RecursiveCharacterTextSplitter(chunk_size=500, chunk_overlap=20)\n",
    "    text_chunks = text_splitter.split_documents(data)\n",
    "\n",
    "    embeddings = HuggingFaceEmbeddings(model_name='sentence-transformers/all-MiniLM-L6-v2')\n",
    "    docsearch = FAISS.from_documents(text_chunks, embeddings)\n",
    "    docsearch.save_local(DB_FAISS_PATH)\n",
    "\n",
    "    llm = CTransformers(model=\"TheBloke/Llama-2-7B-Chat-GGML\",\n",
    "                        model_type=\"llama\",\n",
    "                        max_new_tokens=512,\n",
    "                        temperature=0.1)\n",
    "\n",
    "    qa = ConversationalRetrievalChain.from_llm(llm, retriever=docsearch.as_retriever())\n",
    "\n",
    "    while True:\n",
    "        query = input(\"Enter your query (type 'exit' to quit): \")\n",
    "        if query.lower() == 'exit':\n",
    "            break\n",
    "        chat_history = []\n",
    "        result = qa({\"question\": query, \"chat_history\": chat_history})\n",
    "        print(\"Response:\", result['answer'])\n",
    "\n",
    "if __name__ == \"__main__\":\n",
    "    main()"
   ]
  },
  {
   "cell_type": "code",
   "execution_count": null,
   "id": "49dc922e",
   "metadata": {},
   "outputs": [],
   "source": []
  }
 ],
 "metadata": {
  "kaggle": {
   "accelerator": "gpu",
   "dataSources": [
    {
     "datasetId": 4666981,
     "sourceId": 7938445,
     "sourceType": "datasetVersion"
    }
   ],
   "dockerImageVersionId": 30674,
   "isGpuEnabled": true,
   "isInternetEnabled": true,
   "language": "python",
   "sourceType": "notebook"
  },
  "kernelspec": {
   "display_name": "Python 3 (ipykernel)",
   "language": "python",
   "name": "python3"
  },
  "language_info": {
   "codemirror_mode": {
    "name": "ipython",
    "version": 3
   },
   "file_extension": ".py",
   "mimetype": "text/x-python",
   "name": "python",
   "nbconvert_exporter": "python",
   "pygments_lexer": "ipython3",
   "version": "3.11.4"
  }
 },
 "nbformat": 4,
 "nbformat_minor": 5
}
